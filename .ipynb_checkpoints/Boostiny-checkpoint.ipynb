{
 "cells": [
  {
   "cell_type": "code",
   "execution_count": 2,
   "metadata": {},
   "outputs": [],
   "source": [
    "import requests\n",
    "import pickle\n",
    "import requests\n",
    "import json\n",
    "import import_ipynb\n",
    "import pandas as pd"
   ]
  },
  {
   "cell_type": "code",
   "execution_count": 4,
   "metadata": {},
   "outputs": [],
   "source": [
    "login=\"aziz.bahri@boostiny.tn\"\n",
    "password=\"Boostiny2019\""
   ]
  },
  {
   "cell_type": "markdown",
   "metadata": {},
   "source": [
    "## Session ID"
   ]
  },
  {
   "cell_type": "code",
   "execution_count": 5,
   "metadata": {},
   "outputs": [],
   "source": [
    "def get_session_id(login,password):\n",
    "    r = requests.get('https://influencer.boostiny.app/scripts/server.php?D=%7B%22C%22%3A%22Pap_Api_AuthService%22%2C%22M%22%3A%22authenticate%22%2C%22fields%22%3A%5B%5B%22name%22%2C%22value%22%2C%22values%22%2C%22error%22%5D%2C%0D%0A%5B%22username%22%2C%22'+login+'%22%2Cnull%2C%22%22%5D%2C%0D%0A%5B%22password%22%2C%22'+password+'%22%2Cnull%2C%22%22%5D%0D%0A%2C%5B%22roleType%22%2C%22M%22%2Cnull%2C%22%22%5D%2C%5B%22language%22%2C%22en-US%22%2Cnull%2C%22%22%5D%2C%5B%22isFromApi%22%2C%22Y%22%2Cnull%2C%22%22%5D%2C%5B%22apiVersion%22%2C%22%22%2Cnull%2C%22%22%5D%5D%7D')\n",
    "    df=pd.DataFrame(r.json())\n",
    "    return df['fields'][7][1]"
   ]
  },
  {
   "cell_type": "markdown",
   "metadata": {},
   "source": [
    "## Affiliates"
   ]
  },
  {
   "cell_type": "code",
   "execution_count": 6,
   "metadata": {},
   "outputs": [],
   "source": [
    "def get_all_affiliates(login,password):\n",
    "    session=get_session_id(login,password)\n",
    "    r = requests.get('https://influencer.boostiny.app/scripts/server.php?D=%7B%22C%22%3A%22Gpf_Rpc_Server%22%2C+%22M%22%3A%22run%22%2C+%22requests%22%3A%5B%7B%22C%22%3A%22Pap_Merchants_User_TopAffiliatesGrid%22%2C+%22M%22%3A%22getRows%22%2C+%22sort_col%22%3A%22name%22%2C+%22sort_asc%22%3Atrue%2C+%22offset%22%3A0%2C+%22limit%22%3A30%2C+%22columns%22%3A%5B%5B%22id%22%5D%2C%5B%22id%22%5D%2C%5B%22firstname%22%5D%2C%5B%22lastname%22%5D%2C%5B%22userid%22%5D%2C%5B%22username%22%5D%2C%5B%22dateinserted%22%5D%2C%5B%22data4%22%5D%2C%5B%22data9%22%5D%2C%5B%22data10%22%5D%2C%5B%22data11%22%5D%2C%5B%22salesCount%22%5D%2C%5B%22commissions%22%5D%5D%7D%5D%2C+%22S%22%3A%22'+session+'%22%7D')\n",
    "    df=pd.DataFrame(r.json())\n",
    "    limit=str(df[\"count\"][0])\n",
    "    i=0\n",
    "    df=pd.DataFrame.from_dict(dict(df[\"rows\"]))             \n",
    "    final=pd.DataFrame(columns=list(df[0][0]))\n",
    "    while i<int(limit):\n",
    "        url='https://influencer.boostiny.app/scripts/server.php?D=%7B%22C%22%3A%22Gpf_Rpc_Server%22%2C+%22M%22%3A%22run%22%2C+%22requests%22%3A%5B%7B%22C%22%3A%22Pap_Merchants_User_TopAffiliatesGrid%22%2C+%22M%22%3A%22getRows%22%2C+%22sort_col%22%3A%22name%22%2C+%22sort_asc%22%3Atrue%2C+%22offset%22%3A'+str(i)+'%2C+%22limit%22%3A'+str(i+500)+'%2C+%22columns%22%3A%5B%5B%22id%22%5D%2C%5B%22id%22%5D%2C%5B%22firstname%22%5D%2C%5B%22lastname%22%5D%2C%5B%22userid%22%5D%2C%5B%22username%22%5D%2C%5B%22dateinserted%22%5D%2C%5B%22data4%22%5D%2C%5B%22data9%22%5D%2C%5B%22data10%22%5D%2C%5B%22data11%22%5D%2C%5B%22salesCount%22%5D%2C%5B%22commissions%22%5D%5D%7D%5D%2C+%22S%22%3A%22'+session+'%22%7D'\n",
    "        r=requests.get(url)\n",
    "        df=pd.DataFrame(r.json())\n",
    "        df=pd.DataFrame.from_dict(dict(df[\"rows\"]))\n",
    "        df=pd.DataFrame(columns=list(df[0][0]),data=list(list(df[0][1:])))\n",
    "        final=pd.concat([df,final],ignore_index=True)\n",
    "        i+=500\n",
    "    final.to_csv(\"recommender_system/affiliates.csv\",index=False)"
   ]
  },
  {
   "cell_type": "code",
   "execution_count": 7,
   "metadata": {},
   "outputs": [],
   "source": [
    "get_all_affiliates(login,password)"
   ]
  },
  {
   "cell_type": "markdown",
   "metadata": {},
   "source": [
    "## Banners"
   ]
  },
  {
   "cell_type": "code",
   "execution_count": 6,
   "metadata": {},
   "outputs": [],
   "source": [
    "def get_all_banners(login,password):\n",
    "    session=get_session_id(login,password)\n",
    "    r = requests.get('https://influencer.boostiny.app/scripts/server.php?D=%7B%22C%22%3A%22Gpf_Rpc_Server%22%2C+%22M%22%3A%22run%22%2C+%22requests%22%3A%5B%7B%22C%22%3A%22Pap_Merchants_Banner_BannersStatsGrid%22%2C+%22M%22%3A%22getRows%22%2C+%22sort_col%22%3A%22rorder%22%2C+%22sort_asc%22%3Atrue%2C+%22offset%22%3A0%2C+%22limit%22%3A30%2C+%22filters%22%3A%5B%5B%22rstatus%22%2C%22NE%22%2C%22Y%22%5D%2C%5B%22transactionstatus%22%2C%22IN%22%2C%22A%2CP%22%5D%5D%2C+%22columns%22%3A%5B%5B%22id%22%5D%2C%5B%22id%22%5D%2C%5B%22banner%22%5D%2C%5B%22rtype%22%5D%2C%5B%22isconfirmed%22%5D%2C%5B%22campaignname%22%5D%2C%5B%22account%22%5D%2C%5B%22description%22%5D%2C%5B%22dateinserted%22%5D%5D%7D%5D%2C+%22S%22%3A%22'+session+'%22%7D')\n",
    "    df=pd.DataFrame(r.json())\n",
    "    limit=str(df[\"count\"][0])\n",
    "    i=0\n",
    "    df=pd.DataFrame.from_dict(dict(df[\"rows\"]))\n",
    "    final=pd.DataFrame(columns=list(df[0][0]))\n",
    "    while i<int(limit):\n",
    "        url='https://influencer.boostiny.app/scripts/server.php?D=%7B%22C%22%3A%22Gpf_Rpc_Server%22%2C+%22M%22%3A%22run%22%2C+%22requests%22%3A%5B%7B%22C%22%3A%22Pap_Merchants_Banner_BannersStatsGrid%22%2C+%22M%22%3A%22getRows%22%2C+%22sort_col%22%3A%22rorder%22%2C+%22sort_asc%22%3Atrue%2C+%22offset%22%3A' +str(i)+'%2C+%22limit%22%3A'+str(i+500)+'%2C+%22filters%22%3A%5B%5B%22rstatus%22%2C%22NE%22%2C%22Y%22%5D%2C%5B%22transactionstatus%22%2C%22IN%22%2C%22A%2CP%22%5D%5D%2C+%22columns%22%3A%5B%5B%22id%22%5D%2C%5B%22id%22%5D%2C%5B%22banner%22%5D%2C%5B%22rtype%22%5D%2C%5B%22isconfirmed%22%5D%2C%5B%22campaignname%22%5D%2C%5B%22account%22%5D%2C%5B%22description%22%5D%2C%5B%22dateinserted%22%5D%5D%7D%5D%2C+%22S%22%3A%22'+session+'%22%7D' \n",
    "        r=requests.get(url)\n",
    "        df=pd.DataFrame(r.json())\n",
    "        df=pd.DataFrame.from_dict(dict(df[\"rows\"]))\n",
    "        df=pd.DataFrame(columns=list(df[0][0]),data=list(list(df[0][1:])))\n",
    "        final=pd.concat([df,final],ignore_index=True)\n",
    "        final=final.drop(['isconfirmed','name','rtype'], axis=1)\n",
    "        #final=final.loc[final.rstatus.isin([\"A\"])]\n",
    "        i+=500\n",
    "    final.to_csv(\"recommender_system/all_banners.csv\",index=False)"
   ]
  },
  {
   "cell_type": "code",
   "execution_count": 7,
   "metadata": {},
   "outputs": [],
   "source": [
    "get_all_banners(login,password)"
   ]
  },
  {
   "cell_type": "markdown",
   "metadata": {},
   "source": [
    "## Commision\n"
   ]
  },
  {
   "cell_type": "code",
   "execution_count": 8,
   "metadata": {},
   "outputs": [],
   "source": [
    "def get_all_commisions(login,password):\n",
    "    session=get_session_id(login,password)\n",
    "    r = requests.get('https://influencer.boostiny.app/scripts/server.php?D=%7B%22C%22%3A%22Gpf_Rpc_Server%22%2C+%22M%22%3A%22run%22%2C+%22requests%22%3A%5B%7B%22C%22%3A%22Pap_Merchants_Transaction_TransactionsGrid%22%2C+%22M%22%3A%22getRows%22%2C+%22sort_col%22%3A%22dateinserted%22%2C+%22sort_asc%22%3Afalse%2C+%22offset%22%3A0%2C+%22limit%22%3A100%2C+%22filters%22%3A%5B%5B%22rstatus%22%2C%22IN%22%2C%22A%2CP%22%5D%2C%5B%22rtype%22%2C%22IN%22%2C%22C%2CS%22%5D%5D%2C+%22columns%22%3A%5B%5B%22id%22%5D%2C%5B%22id%22%5D%2C%5B%22commission%22%5D%2C%5B%22bannerid%22%5D%2C%5B%22name%22%5D%2C%5B%22rtype%22%5D%2C%5B%22tier%22%5D%2C%5B%22commissionTypeName%22%5D%2C%5B%22rstatus%22%5D%2C%5B%22userid%22%5D%5D%7D%5D%2C+%22S%22%3A%22'+session+'%22%7D')\n",
    "    df=pd.DataFrame(r.json())\n",
    "    limit=str(df[\"count\"][0])\n",
    "    i=0\n",
    "    df=pd.DataFrame.from_dict(dict(df[\"rows\"]))\n",
    "    final=pd.DataFrame(columns=list(df[0][0]))\n",
    "    while i<int(limit):\n",
    "        url = 'https://influencer.boostiny.app/scripts/server.php?D=%7B%22C%22%3A%22Gpf_Rpc_Server%22%2C+%22M%22%3A%22run%22%2C+%22requests%22%3A%5B%7B%22C%22%3A%22Pap_Merchants_Transaction_TransactionsGrid%22%2C+%22M%22%3A%22getRows%22%2C+%22sort_col%22%3A%22dateinserted%22%2C+%22sort_asc%22%3Afalse%2C+%22offset%22%3A'+str(i)+'%2C+%22limit%22%3A'+str(i+500)+'%2C+%22filters%22%3A%5B%5B%22rstatus%22%2C%22IN%22%2C%22A%2CP%22%5D%2C%5B%22rtype%22%2C%22IN%22%2C%22C%2CS%22%5D%5D%2C+%22columns%22%3A%5B%5B%22id%22%5D%2C%5B%22id%22%5D%2C%5B%22commission%22%5D%2C%5B%22bannerid%22%5D%2C%5B%22name%22%5D%2C%5B%22rtype%22%5D%2C%5B%22tier%22%5D%2C%5B%22commissionTypeName%22%5D%2C%5B%22rstatus%22%5D%2C%5B%22userid%22%5D%5D%7D%5D%2C+%22S%22%3A%22'+session+'%22%7D'\n",
    "        r=requests.get(url)\n",
    "        df=pd.DataFrame(r.json())\n",
    "        df=pd.DataFrame.from_dict(dict(df[\"rows\"]))\n",
    "        df=pd.DataFrame(columns=list(df[0][0]),data=list(list(df[0][1:])))\n",
    "        final=pd.concat([df,final],ignore_index=True)\n",
    "        final=final.drop([ 'commissionTypeName','tier'], axis=1)\n",
    "\n",
    "        i+=500\n",
    "    final.commission=final.commission.astype(float)\n",
    "    final.to_csv(\"recommender_system/all_commissions.csv\",index=False)"
   ]
  },
  {
   "cell_type": "code",
   "execution_count": 9,
   "metadata": {},
   "outputs": [
    {
     "name": "stderr",
     "output_type": "stream",
     "text": [
      "C:\\Users\\Kawther\\Anaconda3\\lib\\site-packages\\ipykernel_launcher.py:15: FutureWarning: Sorting because non-concatenation axis is not aligned. A future version\n",
      "of pandas will change to not sort by default.\n",
      "\n",
      "To accept the future behavior, pass 'sort=False'.\n",
      "\n",
      "To retain the current behavior and silence the warning, pass 'sort=True'.\n",
      "\n",
      "  from ipykernel import kernelapp as app\n"
     ]
    }
   ],
   "source": [
    "get_all_commisions(login,password)"
   ]
  },
  {
   "cell_type": "markdown",
   "metadata": {},
   "source": [
    "## Categories"
   ]
  },
  {
   "cell_type": "code",
   "execution_count": 41,
   "metadata": {},
   "outputs": [],
   "source": [
    "def get_all_categories(login,password):\n",
    "    session=get_session_id(login,password)\n",
    "    r = requests.get(\n",
    "        'https://influencer.boostiny.app/scripts/server.php?D=%7B%22C%22%3A%22Gpf_Rpc_Server%22%2C%22M%22%3A%22run%22%2C%22requests%22%3A%5B%7B%22C%22%3A%22Pap_Features_BannersCategories_BannerCategoriesFilterGrid%22%2C%22M%22%3A%22getRows%22%2C%22offset%22%3A0%2C%22limit%22%3A100%7D%5D%2C%22S%22%3A%22'+session+'%22%7D')\n",
    "    df=pd.DataFrame(r.json())\n",
    "    limit=str(df[\"count\"][0])\n",
    "    i=0\n",
    "    df=pd.DataFrame.from_dict(dict(df[\"rows\"]))\n",
    "    final=pd.DataFrame(columns=list(df[0][0]))\n",
    "    while i<int(limit):\n",
    "        url='https://influencer.boostiny.app/scripts/server.php?D=%7B%22C%22%3A%22Gpf_Rpc_Server%22%2C%22M%22%3A%22run%22%2C%22requests%22%3A%5B%7B%22C%22%3A%22Pap_Features_BannersCategories_BannerCategoriesFilterGrid%22%2C%22M%22%3A%22getRows%22%2C%22offset%22%3A'+str(i)+'%2C%22limit%22%3A'+str(i+500)+'%7D%5D%2C%22S%22%3A%22'+session+'%22%7D'\n",
    "        r=requests.get(url)\n",
    "        df=pd.DataFrame(r.json())\n",
    "        df=pd.DataFrame.from_dict(dict(df[\"rows\"]))\n",
    "        df=pd.DataFrame(columns=list(df[0][0]),data=list(list(df[0][1:])))\n",
    "        final=pd.concat([df,final],ignore_index=True)\n",
    "        i+=500\n",
    "    final.to_csv(\"recommender_system/categories.csv\",index=False)"
   ]
  },
  {
   "cell_type": "code",
   "execution_count": 42,
   "metadata": {},
   "outputs": [],
   "source": [
    "get_all_categories(login,password)"
   ]
  },
  {
   "cell_type": "code",
   "execution_count": 43,
   "metadata": {},
   "outputs": [],
   "source": [
    "def get_all_banners_by_category(session,category):\n",
    "    try:\n",
    "        r = requests.get(\n",
    "        'https://influencer.boostiny.app/scripts/server.php?D=%7B%22C%22%3A%22Gpf_Rpc_Server%22%2C+%22M%22%3A%22run%22%2C+%22requests%22%3A%5B%7B%22C%22%3A%22Pap_Merchants_Banner_BannersStatsGrid%22%2C+%22M%22%3A%22getRows%22%2C+%22sort_col%22%3A%22rorder%22%2C+%22sort_asc%22%3Atrue%2C+%22offset%22%3A0%2C+%22limit%22%3A30%2C+%22filters%22%3A%5B%5B%22rstatus%22%2C%22NE%22%2C%22Y%22%5D%2C%5B%22transactionstatus%22%2C%22IN%22%2C%22A%22%5D%2C%5B%22categoryid%22%2C%22IN%22%2C%22'+category+'%22%5D%5D%2C+%22columns%22%3A%5B%5B%22id%22%5D%2C%5B%22id%22%5D%2C%5B%22banner%22%5D%2C%5B%22campaignname%22%5D%2C%5B%22account%22%5D%2C%5B%22description%22%5D%2C%5B%22dateinserted%22%5D%5D%7D%5D%2C+%22S%22%3A%22'+session+'%22%7D'\n",
    "        )\n",
    "        df=pd.DataFrame(r.json())\n",
    "        limit=str(df[\"count\"][0])\n",
    "        i=0\n",
    "        df=pd.DataFrame.from_dict(dict(df[\"rows\"]))\n",
    "        final=pd.DataFrame(columns=list(df[0][0]))\n",
    "        while i<int(limit):\n",
    "            url='https://influencer.boostiny.app/scripts/server.php?D=%7B%22C%22%3A%22Gpf_Rpc_Server%22%2C+%22M%22%3A%22run%22%2C+%22requests%22%3A%5B%7B%22C%22%3A%22Pap_Merchants_Banner_BannersStatsGrid%22%2C+%22M%22%3A%22getRows%22%2C+%22sort_col%22%3A%22rorder%22%2C+%22sort_asc%22%3Atrue%2C+%22offset%22%3A'+str(i)+'%2C+%22limit%22%3A'+str(i+500)+'%2C+%22filters%22%3A%5B%5B%22rstatus%22%2C%22NE%22%2C%22Y%22%5D%2C%5B%22transactionstatus%22%2C%22IN%22%2C%22A%22%5D%2C%5B%22categoryid%22%2C%22IN%22%2C%22'+category+'%22%5D%5D%2C+%22columns%22%3A%5B%5B%22id%22%5D%2C%5B%22id%22%5D%2C%5B%22banner%22%5D%2C%5B%22campaignname%22%5D%2C%5B%22account%22%5D%2C%5B%22description%22%5D%2C%5B%22dateinserted%22%5D%5D%7D%5D%2C+%22S%22%3A%22'+session+'%22%7D'\n",
    "            r=requests.get(url)\n",
    "            df=pd.DataFrame(r.json())\n",
    "            df=pd.DataFrame.from_dict(dict(df[\"rows\"]))\n",
    "            df=pd.DataFrame(columns=list(df[0][0]),data=list(list(df[0][1:])))\n",
    "            final=pd.concat([df,final],ignore_index=True)\n",
    "            final=final.drop(['isconfirmed','name','rtype'], axis=1)\n",
    "            final=final.loc[final.rstatus.isin([\"A\"])]\n",
    "            i+=500\n",
    "        return final\n",
    "    except:\n",
    "        return \"ERROR\""
   ]
  },
  {
   "cell_type": "code",
   "execution_count": 44,
   "metadata": {},
   "outputs": [],
   "source": [
    "def get_banners(login,password):\n",
    "    session=get_session_id(login,password)\n",
    "    categories=pd.read_csv(\"recommender_system/categories.csv\").id\n",
    "    cols=['id', 'campaignname', 'rstatus', 'banner', 'dateinserted',\n",
    "       'description', 'account','category']\n",
    "    final=pd.DataFrame(columns=cols)\n",
    "    for cat in categories:\n",
    "        df=get_all_banners_by_category(session,str(cat))\n",
    "        if isinstance(df,str):\n",
    "            continue\n",
    "        df[\"category\"]=cat\n",
    "        final=pd.concat([df,final],ignore_index=True,sort=False)\n",
    "    #final=final.drop(['isconfirmed','name','rtype'], axis=1)\n",
    "    #Regroupement par categorie\n",
    "    #plusieurs banniéres référencées avec plusieurs catégories\n",
    "    final=final.groupby(by=['id', 'campaignname', 'rstatus', 'banner', 'dateinserted'\n",
    "                    , 'description', 'account']).agg({'category':lambda x: list(x)}).reset_index()\n",
    "    final.to_csv(\"recommender_system/banners.csv\",index=False)"
   ]
  },
  {
   "cell_type": "code",
   "execution_count": 45,
   "metadata": {},
   "outputs": [],
   "source": [
    "get_banners(login,password)"
   ]
  },
  {
   "cell_type": "code",
   "execution_count": null,
   "metadata": {},
   "outputs": [],
   "source": []
  }
 ],
 "metadata": {
  "kernelspec": {
   "display_name": "Python 3",
   "language": "python",
   "name": "python3"
  },
  "language_info": {
   "codemirror_mode": {
    "name": "ipython",
    "version": 3
   },
   "file_extension": ".py",
   "mimetype": "text/x-python",
   "name": "python",
   "nbconvert_exporter": "python",
   "pygments_lexer": "ipython3",
   "version": "3.6.5"
  }
 },
 "nbformat": 4,
 "nbformat_minor": 2
}
