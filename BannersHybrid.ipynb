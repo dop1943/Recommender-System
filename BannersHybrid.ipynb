{
 "cells": [
  {
   "cell_type": "code",
   "execution_count": 1,
   "metadata": {},
   "outputs": [
    {
     "name": "stderr",
     "output_type": "stream",
     "text": [
      "C:\\Users\\Kawther\\Anaconda3\\lib\\site-packages\\lightfm\\_lightfm_fast.py:9: UserWarning: LightFM was compiled without OpenMP support. Only a single thread will be used.\n",
      "  warnings.warn('LightFM was compiled without OpenMP support. '\n"
     ]
    }
   ],
   "source": [
    "import import_ipynb\n",
    "import RecommenderSystem as recommenderSystem\n",
    "import BannersContentBased as bannersContentBased\n",
    "import pandas as pd\n",
    "import json"
   ]
  },
  {
   "cell_type": "code",
   "execution_count": 2,
   "metadata": {},
   "outputs": [],
   "source": [
    "def import_data():\n",
    "    final=recommenderSystem.import_data()\n",
    "    banners=bannersContentBased.import_data()\n",
    "    collaborativeRecommendedBannersMatrix=recommenderSystem.create_banner_emdedding_distance_matrix(final=final)\n",
    "    contentBasedRecommendedBannersMatrix=bannersContentBased.get_final_cos_sim_matrix(banners=banners)\n",
    "    aux=pd.DataFrame(contentBasedRecommendedBannersMatrix)\n",
    "    indices=bannersContentBased.get_indices(banners)\n",
    "    aux.columns=indices.index\n",
    "    aux.index=indices.index\n",
    "    aux.drop(columns=aux.columns[~aux.columns.isin(collaborativeRecommendedBannersMatrix.columns)],inplace=True)\n",
    "    aux.drop(index=aux.index[~aux.index.isin(collaborativeRecommendedBannersMatrix.index)],inplace=True)\n",
    "    collaborativeRecommendedBannersMatrix=collaborativeRecommendedBannersMatrix.reindex(aux.columns,axis=1)\n",
    "    collaborativeRecommendedBannersMatrix=collaborativeRecommendedBannersMatrix.reindex(aux.index,axis=0)\n",
    "    #At this stage the two datasets have the same columns and indexes and are ordred the same way\n",
    "    return collaborativeRecommendedBannersMatrix,aux"
   ]
  },
  {
   "cell_type": "code",
   "execution_count": 35,
   "metadata": {},
   "outputs": [],
   "source": [
    "def get_recommendations(threshold,id_):\n",
    "    collaborative,content_based=import_data()\n",
    "    cosine_sim=(collaborative+content_based)/2\n",
    "    indices = pd.Series(content_based.index, index=content_based.index).drop_duplicates()\n",
    "    idx = indices[id_]\n",
    "    sim_scores = list(enumerate(cosine_sim[idx]))\n",
    "    sim_scores = sorted(sim_scores, key=lambda x: x[1], reverse=True)\n",
    "    sim_scores = [x for x in sim_scores if x[1]>threshold]\n",
    "    sim_scores=sim_scores[1:]\n",
    "    banner_indices = [i[0] for i in sim_scores]\n",
    "    sims=[i[1] for i in sim_scores]\n",
    "    idx=indices[banner_indices]\n",
    "    dic={\"banner_ids\":list(idx),\"sim_scores\":sims}\n",
    "    return dic"
   ]
  },
  {
   "cell_type": "code",
   "execution_count": 36,
   "metadata": {},
   "outputs": [
    {
     "data": {
      "text/plain": [
       "'{\"banner_ids\": [\"e2c7c47d\", \"39c22156\"], \"sim_scores\": [0.5241811752319336, 0.4621757745742798]}'"
      ]
     },
     "execution_count": 36,
     "metadata": {},
     "output_type": "execute_result"
    }
   ],
   "source": [
    "#get_recommendations(0.4,'d8343bcd')"
   ]
  },
  {
   "cell_type": "code",
   "execution_count": null,
   "metadata": {},
   "outputs": [],
   "source": []
  }
 ],
 "metadata": {
  "kernelspec": {
   "display_name": "Python 3",
   "language": "python",
   "name": "python3"
  },
  "language_info": {
   "codemirror_mode": {
    "name": "ipython",
    "version": 3
   },
   "file_extension": ".py",
   "mimetype": "text/x-python",
   "name": "python",
   "nbconvert_exporter": "python",
   "pygments_lexer": "ipython3",
   "version": "3.6.5"
  }
 },
 "nbformat": 4,
 "nbformat_minor": 2
}
