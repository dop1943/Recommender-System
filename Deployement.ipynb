{
 "cells": [
  {
   "cell_type": "code",
   "execution_count": 1,
   "metadata": {},
   "outputs": [
    {
     "name": "stderr",
     "output_type": "stream",
     "text": [
      "C:\\Users\\AMAL\\Anaconda3\\lib\\site-packages\\lightfm\\_lightfm_fast.py:9: UserWarning: LightFM was compiled without OpenMP support. Only a single thread will be used.\n",
      "  warnings.warn('LightFM was compiled without OpenMP support. '\n"
     ]
    }
   ],
   "source": [
    "import numpy as np\n",
    "from flask import *\n",
    "import json\n",
    "import BannersContentBased as bannersContentBased\n",
    "import BannersHybrid as bannersHybrid\n",
    "import AffiliatesContentBased as affiliatesContentBased\n",
    "import RecommenderSystem as recommenderSystem"
   ]
  },
  {
   "cell_type": "code",
   "execution_count": 2,
   "metadata": {},
   "outputs": [],
   "source": [
    "app = Flask(__name__)\n",
    "\n",
    "@app.route('/test')\n",
    "def test():\n",
    "    return \"We did it\"\n",
    "\n",
    "@app.route('/hybrid_recommendation')\n",
    "def get_hybrid_banners_recommendation():\n",
    "    id_ = request.args.get('id', None)\n",
    "    if id_ is None:\n",
    "        abort(404)\n",
    "    else:\n",
    "        dic=bannersHybrid.get_recommendations(0.2,id_)\n",
    "        return json.dumps(dic)\n",
    "\n",
    "@app.route('/banner_affiliate_recommendation')\n",
    "def get_banner_affiliates_recommendations():\n",
    "    id_ = request.args.get('id', None)\n",
    "    if id_ is None:\n",
    "        abort(404)\n",
    "    else:\n",
    "        res=affiliatesContentBased.get_best_banners_from_similar_users(id_,0.9,10)\n",
    "        dic={\"bannerid\":list(res[\"bannerid\"]),\"commission\":list(res[\"commission\"])}\n",
    "        return json.dumps(dic)\n",
    "\n",
    "@app.route('/banner_banner_collab')\n",
    "def banner_banner_List():\n",
    "    id_ = request.args.get('id', None)\n",
    "    if id_ is None:\n",
    "        abort(404)\n",
    "    else:\n",
    "        b=recommenderSystem.banner_banner_recommendation(id_, n_banners = 10, show = False)\n",
    "        dic={\"banner_ids\": b}\n",
    "        return json.dumps(dic)\n",
    "    \n",
    "\n",
    "@app.route('/banner_banner_content')\n",
    "def banner_banner_content():\n",
    "    id_ = request.args.get('id', None)\n",
    "    if id_ is None:\n",
    "        abort(404)\n",
    "    else:\n",
    "        idx,sim=bannersContentBased.get_recommendations(id_)\n",
    "        dic={\"banner_ids\":list(idx),\"sim_scores\":[i[1] for i in sim]}\n",
    "        return json.dumps(dic)\n",
    "\n",
    "@app.route('/banner_to_user')\n",
    "def rec_list():\n",
    "    id_ = request.args.get('id', None)\n",
    "    if id_ is None:\n",
    "        abort(404)\n",
    "    else:\n",
    "        rec_list = recommenderSystem.sample_recommendation_user(id_,5)\n",
    "        dic={\"banner_ids\": rec_list}\n",
    "        return json.dumps(dic)\n",
    "\n",
    "@app.route('/user_to_banner')\n",
    "def user_list():\n",
    "    id_ = request.args.get('id', None)\n",
    "    if id_ is None:\n",
    "        abort(404)\n",
    "    else:\n",
    "        user_list = recommenderSystem.sample_recommendation_user_to_item(id_,10)\n",
    "        dic={\"user_ids\": user_list}\n",
    "        return json.dumps(dic)"
   ]
  },
  {
   "cell_type": "code",
   "execution_count": null,
   "metadata": {},
   "outputs": [],
   "source": []
  }
 ],
 "metadata": {
  "kernelspec": {
   "display_name": "Python 3",
   "language": "python",
   "name": "python3"
  },
  "language_info": {
   "codemirror_mode": {
    "name": "ipython",
    "version": 3
   },
   "file_extension": ".py",
   "mimetype": "text/x-python",
   "name": "python",
   "nbconvert_exporter": "python",
   "pygments_lexer": "ipython3",
   "version": "3.6.5"
  }
 },
 "nbformat": 4,
 "nbformat_minor": 2
}
