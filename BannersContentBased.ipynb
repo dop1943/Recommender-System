{
 "cells": [
  {
   "cell_type": "code",
   "execution_count": 1,
   "metadata": {},
   "outputs": [],
   "source": [
    "import pandas as pd\n",
    "from sklearn.feature_extraction.text import TfidfVectorizer\n",
    "from sklearn.metrics.pairwise import linear_kernel\n",
    "from nltk.corpus import stopwords\n",
    "from nltk.corpus import wordnet as wn\n",
    "from nltk.tokenize import word_tokenize as wt\n",
    "import spacy\n",
    "import re\n",
    "nlp = spacy.load('fr_core_news_sm')\n",
    "import json"
   ]
  },
  {
   "cell_type": "code",
   "execution_count": 2,
   "metadata": {},
   "outputs": [],
   "source": [
    "def import_data():\n",
    "    banners=pd.read_csv(\"banners.csv\")\n",
    "    #Tranformation de la colonne catégorie en String pour faciliter les étapes à suivre\n",
    "    for idx,row in banners.iterrows():\n",
    "        s=row[\"category\"].replace(\"[\",\" \")\n",
    "        s=s.replace(\"]\",\" \")\n",
    "        s=s.replace(\",\",\" \")\n",
    "        banners.iloc[idx,7]=s\n",
    "    return banners"
   ]
  },
  {
   "cell_type": "code",
   "execution_count": 3,
   "metadata": {},
   "outputs": [],
   "source": [
    "#fonction permettant de degager les synonymes de chaque mot en français\n",
    "def synonymes(l_mot):\n",
    "    dic={}\n",
    "    for mot in l_mot:\n",
    "        syns=wn.synsets(mot,lang=\"fra\")\n",
    "        for i in range (0,len(syns)):\n",
    "            mots=syns[i].lemma_names(\"fra\")\n",
    "            for m in mots:\n",
    "                if m not in dic:\n",
    "                    dic[m]=1\n",
    "    return dic"
   ]
  },
  {
   "cell_type": "code",
   "execution_count": 4,
   "metadata": {},
   "outputs": [],
   "source": [
    "#fonction permettant de d'eliminer tout caractere autre que des lettres et les stopwords\n",
    "def filter_non_alpha_text(text):\n",
    "    stopWords=stopwords.words('french')\n",
    "    filtred=[]\n",
    "    text=str(text).lower()\n",
    "    tokenized=wt(text)\n",
    "    for w in tokenized:\n",
    "        w = w.strip('\\'\"?,.')\n",
    "        val = re.search(r\"^[a-zA-Z][a-zA-Z0-9].*$\", w)\n",
    "        if(w not in stopWords and val is not None):\n",
    "            w=nlp(w)\n",
    "            for token in w:\n",
    "                w=token.lemma_#retrouver la forme primaire des mots, ex: arrivé--> arriver,jeux-->jeu\n",
    "            filtred.append(w)\n",
    "    return filtred"
   ]
  },
  {
   "cell_type": "code",
   "execution_count": 5,
   "metadata": {},
   "outputs": [],
   "source": [
    "#fonction permettant de creer une nouvelle colonne qui reunit campaign_name et banner avec du text cleaning \n",
    "#et generation de synonymes\n",
    "def cb_creation(df):\n",
    "    df[\"cb\"]=\"\"\n",
    "    for idx,row in df.iterrows():\n",
    "        final=row[\"campaignname\"]+' '+row[\"banner\"]\n",
    "        final=filter_non_alpha_text(final)\n",
    "        dic=synonymes(l_mot=final)\n",
    "        final=list(dic.keys())\n",
    "        separator=' '\n",
    "        df[\"cb\"][idx]=separator.join(final)\n",
    "        if len(df[\"cb\"][idx])==0:\n",
    "            df[\"cb\"][idx]=row[\"campaignname\"]+' '+row[\"banner\"]\n",
    "    return df"
   ]
  },
  {
   "cell_type": "code",
   "execution_count": 6,
   "metadata": {},
   "outputs": [],
   "source": [
    "#fonction qui retourne la cos sim matrix\n",
    "def get_cos_sim_matrix(col):\n",
    "    col.astype(str)\n",
    "    tfidf = TfidfVectorizer()\n",
    "    #col = col.fillna('')\n",
    "    tfidf_matrix_meta = tfidf.fit_transform(col)\n",
    "    #linear kernek car on a deja calculé tf idf=> du linear kern nous donnera directement les valeur de cos sim.\n",
    "    #==> juste pour accelerer les calculs\n",
    "    return linear_kernel(tfidf_matrix_meta, tfidf_matrix_meta)"
   ]
  },
  {
   "cell_type": "code",
   "execution_count": 7,
   "metadata": {},
   "outputs": [],
   "source": [
    "def get_final_cos_sim_matrix(banners):\n",
    "    banners=cb_creation(banners)\n",
    "    cosine_sim_meta=get_cos_sim_matrix(banners[\"cb\"])\n",
    "    cosine_sim_cat=get_cos_sim_matrix(banners[\"category\"])\n",
    "    #cos sim des categories prend un poid de 1.5 par rapport à meta(peut etre ajusté)\n",
    "    cosine_sim=(1.5*cosine_sim_cat+cosine_sim_meta)/2.5\n",
    "    return cosine_sim"
   ]
  },
  {
   "cell_type": "code",
   "execution_count": 8,
   "metadata": {},
   "outputs": [],
   "source": [
    "def get_indices(banners):\n",
    "    return pd.Series(banners.index, index=banners.id).drop_duplicates()"
   ]
  },
  {
   "cell_type": "code",
   "execution_count": 9,
   "metadata": {},
   "outputs": [],
   "source": [
    "def get_recommendations(id_):\n",
    "    banners=import_data()\n",
    "    cosine_sim=get_final_cos_sim_matrix(banners)\n",
    "    indices = pd.Series(banners.index, index=banners.id).drop_duplicates()\n",
    "    idx = indices[id_]\n",
    "    sim_scores = list(enumerate(cosine_sim[idx]))\n",
    "    sim_scores = sorted(sim_scores, key=lambda x: x[1], reverse=True)\n",
    "    sim_scores = [x for x in sim_scores if x[1]>0.2]\n",
    "    sim_scores=sim_scores[1:]\n",
    "    banner_indices = [i[0] for i in sim_scores]\n",
    "    return banners.iloc[banner_indices,:].id,sim_scores"
   ]
  }
 ],
 "metadata": {
  "kernelspec": {
   "display_name": "Python 3",
   "language": "python",
   "name": "python3"
  },
  "language_info": {
   "codemirror_mode": {
    "name": "ipython",
    "version": 3
   },
   "file_extension": ".py",
   "mimetype": "text/x-python",
   "name": "python",
   "nbconvert_exporter": "python",
   "pygments_lexer": "ipython3",
   "version": "3.6.5"
  }
 },
 "nbformat": 4,
 "nbformat_minor": 2
}
