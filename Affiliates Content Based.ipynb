{
 "cells": [
  {
   "cell_type": "markdown",
   "metadata": {},
   "source": [
    "## Recommender system that returns the most lucrative banners of a user's similar users (will be used as notifications)"
   ]
  },
  {
   "cell_type": "code",
   "execution_count": 3,
   "metadata": {},
   "outputs": [],
   "source": [
    "import pandas as pd\n",
    "import numpy as np\n",
    "from sklearn.preprocessing import LabelEncoder as le\n",
    "import datetime as dt\n",
    "from sklearn.metrics.pairwise import cosine_similarity\n",
    "from sklearn.preprocessing import MultiLabelBinarizer"
   ]
  },
  {
   "cell_type": "markdown",
   "metadata": {},
   "source": [
    "### Chargement des fichiers necessaires"
   ]
  },
  {
   "cell_type": "code",
   "execution_count": 2,
   "metadata": {},
   "outputs": [],
   "source": [
    "def import_data():\n",
    "    affiliates=pd.read_csv(\"affiliates.csv\")\n",
    "    commissions=pd.read_csv(\"all_commissions.csv\")\n",
    "    banners=pd.read_csv(\"banners.csv\")\n",
    "    categories=pd.read_csv(\"categories.csv\")\n",
    "    affiliates.rename(columns={\"data9\":\"categories\",\"data4\":\"city\",\"data10\":\"birth_date\",\"data11\":\"gender\"},inplace=True)\n",
    "    affiliates.drop(columns=[x for x in affiliates.columns if x not in [\"id\",\"categories\",\"city\",\"birth_date\",\"gender\"]],inplace=True)\n",
    "    affiliates=affiliates.astype({\"city\":\"str\",\"categories\":\"str\",\"gender\":\"str\"})\n",
    "    return affiliates,commissions,banners,categories\n",
    "#affiliates=pd.read_csv(\"Affiliates.csv\",index_col=0)\n",
    "#commissions=pd.read_csv(\"commissions.csv\",index_col=0)\n",
    "#banners=pd.read_csv(\"banners.csv\",index_col=0)\n",
    "#categories=pd.read_csv(\"categories.csv\",index_col=0)"
   ]
  },
  {
   "cell_type": "markdown",
   "metadata": {},
   "source": [
    "#### Extraction of categories' ids from category_names"
   ]
  },
  {
   "cell_type": "code",
   "execution_count": 4,
   "metadata": {},
   "outputs": [],
   "source": [
    "def replace_cat_names_with_ids(affiliates,categories,end):\n",
    "    #some of the first affiliates have category names instead of ids so but it was corrected for the new ones in the\n",
    "    #the last update, end is usable when we know exactly after which row number the the update has begun \n",
    "    for idx,row in affiliates.iterrows():\n",
    "        if idx<=end:\n",
    "            if len(row[\"categories\"])!=0:\n",
    "                l_cat=row[\"categories\"].split(\";\")\n",
    "                ids=[]\n",
    "                for i in range(1,len(l_cat)):\n",
    "                    if l_cat[i].isdigit():\n",
    "                        l_cat[i]=int(l_cat[i])\n",
    "                    if isinstance(l_cat[i],str):\n",
    "                        cat_id=categories.loc[(categories.name==l_cat[i]) ,\"id\"] #for those who have a list of category names\n",
    "                    if isinstance(l_cat[i],int): #for those who have a list of category ids\n",
    "                        cat_id=categories.loc[(categories.id==l_cat[i]) ,\"id\"]\n",
    "                    if len(cat_id.values)>0:\n",
    "                        cat_id=cat_id.values[0]\n",
    "                        if(~np.isnan(int(cat_id))):\n",
    "                            ids.append(cat_id)\n",
    "                affiliates.loc[idx,\"categories\"]=ids\n",
    "            else:\n",
    "                affiliates.loc[idx,\"categories\"]=[]\n",
    "    mlb = MultiLabelBinarizer()\n",
    "    return pd.concat((affiliates.drop(columns=[\"categories\"]),pd.DataFrame(mlb.fit_transform(affiliates.categories),columns=\"cat_\"+mlb.classes_, index=affiliates.index))\n",
    "                     ,axis=1)"
   ]
  },
  {
   "cell_type": "code",
   "execution_count": 5,
   "metadata": {},
   "outputs": [],
   "source": [
    "def data_preprocessing(affiliates,categories):\n",
    "    affiliates=replace_cat_names_with_ids(affiliates=affiliates,categories=categories,end=affiliates.shape[0])\n",
    "    #label encoding for affiliates\n",
    "    affiliates.loc[~affiliates.gender.isin([\"Male\",\"Female\"]),\"gender\"]=\"Missing\"\n",
    "    l_encoder=le()\n",
    "    affiliates.gender=l_encoder.fit_transform(affiliates.gender,)\n",
    "    #we will be working on the birth year of each user, no need for the whole date\n",
    "    affiliates.loc[affiliates.birth_date==\"null\",\"birth_date\"]=\"\"\n",
    "    affiliates.birth_date=pd.to_datetime(affiliates.birth_date)\n",
    "    affiliates.birth_date=affiliates.birth_date.dt.year\n",
    "    affiliates.birth_date.fillna(0,inplace=True)\n",
    "    #dummies generation for city\n",
    "    affiliates=pd.concat([affiliates,pd.get_dummies(affiliates.city)],axis=1)\n",
    "    affiliates.drop(axis=0,columns=[\"city\"],inplace=True)\n",
    "    return affiliates"
   ]
  },
  {
   "cell_type": "code",
   "execution_count": 6,
   "metadata": {},
   "outputs": [],
   "source": [
    "def get_cos_sim_matrix(df):\n",
    "    return cosine_similarity(df,df)"
   ]
  },
  {
   "cell_type": "code",
   "execution_count": 7,
   "metadata": {},
   "outputs": [],
   "source": [
    "def get_similar_users(id_,threshold,affiliates):\n",
    "    cosine_sim=get_cos_sim_matrix(affiliates.drop(columns=[\"id\"]))\n",
    "    indices = pd.Series(affiliates.index, index=affiliates.id).drop_duplicates()\n",
    "    idx = indices[id_]\n",
    "    sim_scores = list(enumerate(cosine_sim[idx]))\n",
    "    sim_scores = sorted(sim_scores, key=lambda x: x[1], reverse=True)\n",
    "    sim_scores = [x for x in sim_scores if x[1]>threshold]\n",
    "    sim_scores=sim_scores[1:]\n",
    "    aff_indices = [i[0] for i in sim_scores]\n",
    "    return affiliates.iloc[aff_indices,:],sim_scores"
   ]
  },
  {
   "cell_type": "code",
   "execution_count": 20,
   "metadata": {},
   "outputs": [],
   "source": [
    "def get_best_banners_from_similar_users(id_,threshold,banners_number):\n",
    "    affiliates,commissions,banners,categories=import_data()\n",
    "    affiliates=data_preprocessing(affiliates=affiliates,categories=categories)\n",
    "    a,s=get_similar_users(id_,threshold,affiliates)\n",
    "    commissions=commissions.groupby([\"userid\",\"bannerid\"]).agg({\"commission\":sum}).reset_index()\n",
    "    res=commissions.loc[commissions.userid.isin(a.id),:].groupby(\"bannerid\").agg({\"commission\":sum}).reset_index().sort_values(by=\"commission\",ascending=False)\n",
    "    return res.loc[res.bannerid.isin(banners.id),:][:banners_number]"
   ]
  },
  {
   "cell_type": "markdown",
   "metadata": {},
   "source": [
    "### Test"
   ]
  },
  {
   "cell_type": "code",
   "execution_count": 1,
   "metadata": {},
   "outputs": [],
   "source": [
    "#get_best_banners_from_similar_users(id_=\"8903\",threshold=0.9,banners_number=10)"
   ]
  }
 ],
 "metadata": {
  "kernelspec": {
   "display_name": "Python 3",
   "language": "python",
   "name": "python3"
  },
  "language_info": {
   "codemirror_mode": {
    "name": "ipython",
    "version": 3
   },
   "file_extension": ".py",
   "mimetype": "text/x-python",
   "name": "python",
   "nbconvert_exporter": "python",
   "pygments_lexer": "ipython3",
   "version": "3.7.0"
  }
 },
 "nbformat": 4,
 "nbformat_minor": 2
}
